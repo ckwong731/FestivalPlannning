{
 "cells": [
  {
   "cell_type": "markdown",
   "id": "39cd8fe1-e7ea-4758-93a5-620c7310df27",
   "metadata": {},
   "source": [
    "# Festival Booking Linear Programming Model"
   ]
  },
  {
   "cell_type": "markdown",
   "id": "7879eaf1-fb51-48b3-a276-f52373c06d64",
   "metadata": {},
   "source": [
    "#### Import Models"
   ]
  },
  {
   "cell_type": "code",
   "execution_count": 1,
   "id": "30b6207d-a7e2-41f5-af62-bbd4a23e478b",
   "metadata": {},
   "outputs": [],
   "source": [
    "from gurobipy import *\n",
    "import pandas as pd\n",
    "import gurobipy as gp\n",
    "from gurobipy import GRB"
   ]
  },
  {
   "cell_type": "markdown",
   "id": "8ba0f9cc-06e3-4304-aceb-f239315470d9",
   "metadata": {},
   "source": [
    "# Input Artist Data"
   ]
  },
  {
   "cell_type": "code",
   "execution_count": 2,
   "id": "19a64a3a-67db-404f-b5f8-3f8720f24ba6",
   "metadata": {},
   "outputs": [],
   "source": [
    "#Note: price and revenue are in Thousands\n",
    "artist, price, revenue, crowd, pop, hiphop, edm, alternative, rock, country = gp.multidict({\n",
    "('Lady Gaga'): [750,1000, 5, 1,0,0,0,0,0],\n",
    "('Ariana Grande'): [6000,7200,100, 1,0,0,0,0,0],\n",
    "('Taylor Swift'): [1000,1500,21, 1,0,0,0,0,0],\n",
    "('Miley Cyrus'): [900,1000,16, 1,0,0,0,0,0],\n",
    "('Jay-Z'): [3000,5000,30, 0,1,0,0,0,0],\n",
    "('Drake'): [1500,2000,20, 0,1,0,0,0,0],\n",
    "('Eminem'): [1500,3000,50, 0,1,0,0,0,0],\n",
    "('Kanye West'): [1000,4000,40, 0,1,0,0,0,0],\n",
    "('Calvin Harris'): [1500,2500,10, 0,0,1,0,0,0],\n",
    "('Skrillex'): [2000,2700,15, 0,0,1,0,0,0],\n",
    "('Martin Garrix'): [825,1000,12, 0,0,1,0,0,0],\n",
    "('Marshmello'): [2300,2700,31, 0,0,1,0,0,0],\n",
    "('The Strokes'): [2000,2100,8, 0,0,0,1,0,0],\n",
    "('Paramore'): [400,600,67, 0,0,0,1,0,0],\n",
    "('Fall Out Boy'): [400,1000,18, 0,0,0,1,0,0],\n",
    "('Twenty One Pilots'): [600,12000,12, 0,0,0,1,0,0],\n",
    "('Machine Gun Kelly'): [100,120,5, 0,0,0,0,1,0],\n",
    "('Foo Fighters'): [950,1000,85, 0,0,0,0,1,0],\n",
    "('AC/DC'): [8400,13000,79, 0,0,0,0,1,0],\n",
    "('Elton John '): [5000,6000,63, 0,0,0,0,1,0],\n",
    "('Carrie Underwood'): [15000,20000,780, 0,0,0,0,0,1],\n",
    "('Luke Bryan'): [470, 1000,20, 0,0,0,0,0,1],\n",
    "('Thomas Rhett'): [6540,9000,560, 0,0,0,0,0,1],\n",
    "('Lady A'): [500,800,15, 0,0,0,0,0,1],\n",
    "('David Guetta'): [650,790,75, 0,0,1,0,0,0],\n",
    "('Zedd'): [4500,5000,40, 0,0,1,0,0,0],\n",
    "('Steve Aoki'): [2250,2900,38, 0,0,0,1,0,0],\n",
    "('Carol Cox'): [250,342,7, 0,0,1,0,0,0],\n",
    "('Swedish House Mafia'): [890,2500,29, 0,0,1,0,0,0],\n",
    "('Diplo'): [3200,3900,36, 0,0,1,0,0,0],\n",
    "('Tiesto'): [750,1000,3, 0,0,1,0,0,0],\n",
    "('deadmau5'): [250,500,2, 0,0,0,1,0,0],\n",
    "('Afrojack'): [50,64,5, 0,0,1,0,0,0],\n",
    "('Kaskade'): [300,00,10, 0,0,1,0,0,0],\n",
    "('The Chainsmokers'): [800,15000,15, 0,0,1,0,0,0],\n",
    "('Alesso'): [300,310,160, 0,0,1,0,0,0],\n",
    "('DJ Snake'): [100,1300,30, 0,0,0,1,0,0],\n",
    "('Flume'): [750,900,20, 0,0,1,0,0,0],\n",
    "('R3HAB'): [75,64,15, 0,0,1,0,0,0],\n",
    "('Gryffin'): [75,80,13, 0,0,1,0,0,0],\n",
    "('Kygo'): [1000,1390,20, 0,0,1,0,0,0],\n",
    "('Don Diablo'): [300,350,18, 0,0,0,1,0,0],\n",
    "('Meduza'): [75,190,15, 0,0,1,0,0,0],\n",
    "('3OH!3'): [30,100,5, 0,0,1,0,0,0],\n",
    "('Illenium'): [300,530,5, 0,0,1,0,0,0],\n",
    "('Panic! At the Disco'): [1300,1560,12, 0,0,0,1,0,0],\n",
    "('Bastille'): [490,600,4, 0,0,0,1,0,0],\n",
    "('The Lumineers'): [2600,4200,42, 0,0,0,1,0,0],\n",
    "('Florence and The Machine'): [3405,6540,60, 0,0,0,1,0,0],\n",
    "('The 1975'): [965,2800,25, 0,0,0,1,0,0],\n",
    "('Bring Me the Horizon'): [245,500,16, 0,0,0,1,0,0],\n",
    "('Animal Collective'): [150,84,9, 0,0,0,1,0,0],\n",
    "('Maneskin'): [600,540,12, 0,0,0,1,0,0],\n",
    "('Grimes'): [150,300,9, 0,0,0,1,0,0],\n",
    "('Pearl Jam'): [500,1000,13, 0,0,0,1,0,0],\n",
    "('Weezer'): [300,468,15, 0,0,0,1,0,0],\n",
    "('Muse'): [1500,1500,23, 0,0,0,1,0,0],\n",
    "('The Smashing Pumpkins'): [1000,1240,5, 0,0,0,1,0,0],\n",
    "('Nirvana'): [600,3200,50, 0,0,0,1,0,0],\n",
    "('The Killers'): [1000,1565,100, 0,0,0,1,0,0],\n",
    "('Arctic Monkeys'): [1500,3000,300, 0,0,0,1,0,0],\n",
    "('Goo Goo Dolls'): [300,400,2, 0,0,0,1,0,0],\n",
    "('Counting Crows'): [300,500,200, 0,0,0,1,0,0],\n",
    "('Cage The Elephant'): [50,120,205, 0,0,0,1,0,0],\n",
    "('Mumford & Sons'): [1500,2000,300, 0,0,0,1,0,0],\n",
    "('The White Stripes'): [1500,2000,250, 0,0,0,1,0,0],\n",
    "('Radiohead'): [1500,4000,200, 0,0,0,1,0,0],\n",
    "('The Lumineers'): [2600,3200,42, 0,0,0,1,0,0],\n",
    "('Florence and The Machine'): [3405,4540,60, 0,0,0,1,0,0],\n",
    "('Blink 182'): [2950,6812,55, 0,0,0,0,1,0],\n",
    "('Aerosmith'): [4700,5230,89, 0,0,0,0,1,0],\n",
    "('Linkin Park'): [1680,3000,48, 0,0,0,0,1,0],\n",
    "('Fever 333'): [590,450,2, 0,0,0,0,1,0],\n",
    "('Royal Blood'): [260,300,1, 0,0,0,0,1,0],\n",
    "('Green Day'): [3000,8000,60, 0,0,0,0,1,0],\n",
    "('All American Rejects'): [120,150,30, 0,0,0,0,1,0],\n",
    "('Red Hot Chili Peppers'): [1000,6000,200, 0,0,0,0,1,0],\n",
    "('My Chemical Romance'): [150,1500,150, 0,0,0,0,1,0],\n",
    "('Smash Mouth'): [50,5000,16, 0,0,0,0,1,0],\n",
    "('Third Eye Blind'): [300,5000,15, 0,0,0,0,1,0],\n",
    "('All Time Low'): [150,96,5, 0,0,0,0,1,0],\n",
    "('U2'): [1000,2300,150, 0,0,0,0,1,0],\n",
    "('Wolf Alice'): [25,47,4, 0,0,0,0,1,0],\n",
    "('Guns N Roses'): [1500,4000,3000, 0,0,0,0,1,0],\n",
    "('Systems of a Down'): [1000,1500,45, 0,0,0,0,1,0],\n",
    "('Incubus'): [500,900,40, 0,0,0,0,1,0],\n",
    "('Imagine Dragons'): [1000,1400,20, 0,0,0,0,1,0],\n",
    "('Snow Patrol'): [750,1400,80, 0,0,0,0,1,0],\n",
    "('Of Monsters and Men'): [300,4000,40, 0,0,0,0,1,0],\n",
    "('Yungblud'): [75,300,20, 0,0,0,0,1,0],\n",
    "('Katy Perry'): [3200,4000,34,1,0,0,0,0,0],\n",
    "('Harry Styles'): [7200,9000,65,1,0,0,0,0,0],\n",
    "('Lana Del Rey'): [5900,6200,42,1,0,0,0,0,0],\n",
    "('Pink'): [2100,3500,32,1,0,0,0,0,0],\n",
    "('Billie Eilish'): [8000,10000,115,1,0,0,0,0,0],\n",
    "('Maroon 5'): [6700,9000,107,1,0,0,0,0,0],\n",
    "('Dua Lipa'): [1300,2600,100,1,0,0,0,0,0],\n",
    "('Beyonce'): [2000,6000,400,1,0,0,0,0,0],\n",
    "('Justin Bieber'): [1000,4500,46,1,0,0,0,0,0],\n",
    "('Bruno Mars'): [5000,4200,70,1,0,0,0,0,0],\n",
    "('Ed Sheeran'): [1000,7800,65,1,0,0,0,0,0],\n",
    "('Adele'): [800,1500,70,1,0,0,0,0,0],\n",
    "('Shawn Mendes'): [1500,4190,95,1,0,0,0,0,0],\n",
    "('Halsey'): [2000,5000,20,1,0,0,0,0,0],\n",
    "('Lizzo'): [2500,5000,40,1,0,0,0,0,0],\n",
    "('Selena Gomez'): [200,6000,60,1,0,0,0,0,0],\n",
    "('Justin Timberlake'): [1000,3000,16,1,0,0,0,0,0],\n",
    "('The Weeknd'): [750,4000,13,1,0,0,0,0,0],\n",
    "('Charlie Puth'): [500,2800,50,1,0,0,0,0,0],\n",
    "('Christina Aguilera'): [1000,7500,70,1,0,0,0,0,0],\n",
    "('J Cole'): [7500,6500,160,0,1,0,0,0,0],\n",
    "('Kendrick Lamar'): [800,3000,13,0,1,0,0,0,0],\n",
    "('Nicki Minaj'): [8900,5500,136,0,1,0,0,0,0],\n",
    "('Snoop Dogg'): [80,7500,20,0,1,0,0,0,0],\n",
    "('The Game'): [1200,2450,40,0,1,0,0,0,0],\n",
    "('Meek Mill'): [5523,7965,65,0,1,0,0,0,0],\n",
    "('Dr. Dre'): [500,6500,20,0,1,0,0,0,0],\n",
    "('50 Cent'): [150,5000,10,0,1,0,0,0,0],\n",
    "('Lil Wayne'): [300,6000,20,0,1,0,0,0,0],\n",
    "('Cardi B'): [800,940,65,0,1,0,0,0,0],\n",
    "('Kid Cudi'): [200,2000,8,0,1,0,0,0,0],\n",
    "('Chris Brown'): [150,2000,8,0,1,0,0,0,0],\n",
    "('Chance the Rapper'): [1200,4000,50,0,1,0,0,0,0],\n",
    "('Megan Thee Stallion'): [250,2000,45,0,1,0,0,0,0],\n",
    "('Migos'): [750,5000,40,0,1,0,0,0,0],\n",
    "('Doja Cat'): [750,3000,50,0,1,0,0,0,0],\n",
    "('Future'): [50,650,42,0,1,0,0,0,0],\n",
    "('Offset'): [300,260,30,0,1,0,0,0,0],\n",
    "('Ty Dolla $ign'): [150,2500,25,0,1,0,0,0,0],\n",
    "('ASAP Rocky'): [200,1000,20,0,1,0,0,0,0],\n",
    "('Post Malone'): [30,5000,30,0,1,0,0,0,0],\n",
    "('Keith Urban'): [7000,6700,320, 0,0,0,0,0,1],\n",
    "('Zac Brown Band'): [1200, 3500,19, 0,0,0,0,0,1],\n",
    "('Blake Shelton'): [1000,4000,14, 0,0,0,0,0,1],\n",
    "('Chapel Hart'): [2000,2600,26, 0,0,0,0,0,1],\n",
    "('Maddie & Tae'): [880,1500,10, 0,0,0,0,0,1],\n",
    "('Dan + Shay'): [3900,2800,14, 0,0,0,0,0,1],\n",
    "('Midland'): [980,2000,31, 0,0,0,0,0,1],\n",
    "('Florida Georgia Line'): [7450,4300,45, 0,0,0,0,0,1],\n",
    "('Tim McGraw'): [1000,6200,17, 0,0,0,0,0,1],\n",
    "('Sam Hunt'): [750,250,11, 0,0,0,0,0,1],\n",
    "('Luke Combs'): [780,2500,19, 0,0,0,0,0,1],\n",
    "('Chris Stapleton'): [1500,1200,6, 0,0,0,0,0,1],\n",
    "('Dierks Bentley'): [750,1000,10, 0,0,0,0,0,1],\n",
    "('Maren Morris'): [750, 800,8, 0,0,0,0,0,1],\n",
    "('Faith Hill'): [1000,2579,13, 0,0,0,0,0,1],\n",
    "('Eric Church'): [2500,6300,30, 0,0,0,0,0,1],\n",
    "('Kane Brown'): [200,500,40, 0,0,0,0,0,1],\n",
    "('Brad Paisley'): [750, 1260,50, 0,0,0,0,0,1],\n",
    "('Kenny Chesney'): [1000,2430,54, 0,0,0,0,0,1],\n",
    "('Jimmie Allen'): [75,120,9, 0,0,0,0,0,1],\n",
    "('Dustin Lynch'): [300,500,30, 0,0,0,0,0,1]\n",
    "})"
   ]
  },
  {
   "cell_type": "markdown",
   "id": "a88ea02a-4a4f-4aa6-adbe-e5bcb6a20e4b",
   "metadata": {},
   "source": [
    "# Model Development"
   ]
  },
  {
   "cell_type": "markdown",
   "id": "b830b03b-5a85-48c2-a15b-2359f2c456e8",
   "metadata": {},
   "source": [
    "#### Create Model and Decision Variables"
   ]
  },
  {
   "cell_type": "code",
   "execution_count": 3,
   "id": "aed19785-2a2c-4af4-8539-aef54978d865",
   "metadata": {},
   "outputs": [
    {
     "name": "stdout",
     "output_type": "stream",
     "text": [
      "Set parameter Username\n",
      "Academic license - for non-commercial use only - expires 2023-03-23\n"
     ]
    }
   ],
   "source": [
    "model = gp.Model('festival')\n",
    "\n",
    "# Binary decision variable to book an artist\n",
    "book = model.addVars(artist, vtype='B', name=\"book\" )"
   ]
  },
  {
   "cell_type": "markdown",
   "id": "5a2b303c-d51a-47ca-9fba-50dc111e4696",
   "metadata": {},
   "source": [
    "#### Constraints"
   ]
  },
  {
   "cell_type": "code",
   "execution_count": 4,
   "id": "72335a91-5ac3-49ac-a6e6-b5cbfba8431e",
   "metadata": {},
   "outputs": [],
   "source": [
    "#constraints for budget and capacity\n",
    "budget = model.addConstr((gp.quicksum(price[i] * book[i] for i in artist)) <= 16000,name='budget')\n",
    "crowdsize = model.addConstr((gp.quicksum(crowd[i] * book[i] for i in artist)) <= 500,name='capacity')\n",
    "\n",
    "\n",
    "#constraints for minimum of each genre\n",
    "minpop = model.addConstr((gp.quicksum(pop[i] * book[i] for i in artist)) >= 6,name='minpopartists')\n",
    "minhiphop = model.addConstr((gp.quicksum(hiphop[i] * book[i] for i in artist)) >= 8,name='minhiphopartists')\n",
    "minedm = model.addConstr((gp.quicksum(edm[i] * book[i] for i in artist)) >= 1,name='minedmartists')\n",
    "minalternative = model.addConstr((gp.quicksum(alternative[i] * book[i] for i in artist)) >= 3,name='minalternativeartists')\n",
    "minrock = model.addConstr((gp.quicksum(rock[i] * book[i] for i in artist)) >= 3,name='minrockartists')\n",
    "mincountry = model.addConstr((gp.quicksum(country[i] * book[i] for i in artist)) >= 8,name='mincountryartists')\n",
    "\n",
    "#constraint for total artists booked\n",
    "total = model.addConstr((gp.quicksum( book[i] for i in artist)) == 40,name='totalartists')\n",
    "\n"
   ]
  },
  {
   "cell_type": "markdown",
   "id": "40ff2f1f-8c0e-44f5-8907-b05abca7cac7",
   "metadata": {},
   "source": [
    "#### Objective function"
   ]
  },
  {
   "cell_type": "code",
   "execution_count": 5,
   "id": "bf3a0e43-d658-4742-9d32-5bf923a3dcd7",
   "metadata": {},
   "outputs": [],
   "source": [
    "extractionProfit = gp.quicksum((revenue[b] - price[b])*book[b] for b in artist )\n",
    "model.setObjective(extractionProfit, GRB.MAXIMIZE)"
   ]
  },
  {
   "cell_type": "markdown",
   "id": "bf2daf11-17c9-4fa8-b838-110986312e27",
   "metadata": {},
   "source": [
    "# Analysis"
   ]
  },
  {
   "cell_type": "code",
   "execution_count": 6,
   "id": "87989efa-495b-4460-9d79-6e92e4c0346f",
   "metadata": {},
   "outputs": [
    {
     "name": "stdout",
     "output_type": "stream",
     "text": [
      "Warning: variable name \"book[Lady Gaga]\" has a space\n",
      "Warning: to let Gurobi read it back, use rlp format\n",
      "Gurobi Optimizer version 9.5.1 build v9.5.1rc2 (mac64[x86])\n",
      "Thread count: 4 physical cores, 8 logical processors, using up to 8 threads\n",
      "Optimize a model with 9 rows, 150 columns and 600 nonzeros\n",
      "Model fingerprint: 0x82d19839\n",
      "Variable types: 0 continuous, 150 integer (150 binary)\n",
      "Coefficient statistics:\n",
      "  Matrix range     [1e+00, 2e+04]\n",
      "  Objective range  [5e+00, 1e+04]\n",
      "  Bounds range     [1e+00, 1e+00]\n",
      "  RHS range        [1e+00, 2e+04]\n",
      "Presolve removed 0 rows and 5 columns\n",
      "Presolve time: 0.00s\n",
      "Presolved: 9 rows, 145 columns, 578 nonzeros\n",
      "Variable types: 0 continuous, 145 integer (145 binary)\n",
      "\n",
      "Root relaxation: objective 9.024151e+04, 23 iterations, 0.00 seconds (0.00 work units)\n",
      "\n",
      "    Nodes    |    Current Node    |     Objective Bounds      |     Work\n",
      " Expl Unexpl |  Obj  Depth IntInf | Incumbent    BestBd   Gap | It/Node Time\n",
      "\n",
      "     0     0 90241.5106    0    4          - 90241.5106      -     -    0s\n",
      "H    0     0                    75562.000000 90241.5106  19.4%     -    0s\n",
      "H    0     0                    87453.000000 90241.5106  3.19%     -    0s\n",
      "H    0     0                    88158.000000 90241.5106  2.36%     -    0s\n",
      "     0     0 90062.7399    0    5 88158.0000 90062.7399  2.16%     -    0s\n",
      "     0     0 90062.7399    0    4 88158.0000 90062.7399  2.16%     -    0s\n",
      "     0     0 89314.6444    0    6 88158.0000 89314.6444  1.31%     -    0s\n",
      "\n",
      "Cutting planes:\n",
      "  Gomory: 3\n",
      "  Cover: 1\n",
      "  MIR: 2\n",
      "  Zero half: 1\n",
      "\n",
      "Explored 1 nodes (50 simplex iterations) in 0.05 seconds (0.00 work units)\n",
      "Thread count was 8 (of 8 available processors)\n",
      "\n",
      "Solution count 3: 88158 87453 75562 \n",
      "\n",
      "Optimal solution found (tolerance 1.00e-04)\n",
      "Best objective 8.815800000000e+04, best bound 8.815800000000e+04, gap 0.0000%\n"
     ]
    }
   ],
   "source": [
    "# Verify model formulation\n",
    "model.write('festival.lp')\n",
    "# Run optimization engine\n",
    "model.optimize()"
   ]
  },
  {
   "cell_type": "code",
   "execution_count": 7,
   "id": "bc1a1eae-3cc9-4a8a-abef-b7fdf42edfa3",
   "metadata": {},
   "outputs": [
    {
     "name": "stdout",
     "output_type": "stream",
     "text": [
      "\n",
      "    Variable            X \n",
      "-------------------------\n",
      "book[Lady Gaga]            1 \n",
      "book[Taylor Swift]            1 \n",
      "book[Miley Cyrus]            1 \n",
      "book[Twenty One Pilots]            1 \n",
      "book[Machine Gun Kelly]            1 \n",
      "book[Luke Bryan]            1 \n",
      "book[Lady A]            1 \n",
      "book[Carol Cox]            1 \n",
      "book[Tiesto]            1 \n",
      "book[deadmau5]            1 \n",
      "book[Afrojack]            1 \n",
      "book[The Chainsmokers]            1 \n",
      "book[Gryffin]            1 \n",
      " book[3OH!3]            1 \n",
      "book[Illenium]            1 \n",
      "book[Animal Collective]            1 \n",
      "book[Grimes]            1 \n",
      "book[Goo Goo Dolls]            1 \n",
      "book[Royal Blood]            1 \n",
      "book[Smash Mouth]            1 \n",
      "book[Third Eye Blind]            1 \n",
      "book[All Time Low]            1 \n",
      "book[Wolf Alice]            1 \n",
      "book[Selena Gomez]            1 \n",
      "book[Justin Timberlake]            1 \n",
      "book[The Weeknd]            1 \n",
      "book[Snoop Dogg]            1 \n",
      "book[Dr. Dre]            1 \n",
      "book[50 Cent]            1 \n",
      "book[Lil Wayne]            1 \n",
      "book[Kid Cudi]            1 \n",
      "book[Chris Brown]            1 \n",
      "book[ASAP Rocky]            1 \n",
      "book[Post Malone]            1 \n",
      "book[Maddie & Tae]            1 \n",
      "book[Tim McGraw]            1 \n",
      "book[Sam Hunt]            1 \n",
      "book[Dierks Bentley]            1 \n",
      "book[Maren Morris]            1 \n",
      "book[Jimmie Allen]            1 \n"
     ]
    }
   ],
   "source": [
    "model.printAttr(\"X\")"
   ]
  },
  {
   "cell_type": "code",
   "execution_count": 8,
   "id": "efb5a0de-48f8-4718-92c6-58707e5af66c",
   "metadata": {},
   "outputs": [
    {
     "data": {
      "text/plain": [
       "88158.0"
      ]
     },
     "execution_count": 8,
     "metadata": {},
     "output_type": "execute_result"
    }
   ],
   "source": [
    "model.objval"
   ]
  },
  {
   "cell_type": "markdown",
   "id": "5e0d0fbe-8fa5-417d-b495-14fcab202a7f",
   "metadata": {},
   "source": [
    "# -\\\\$109,081,000 revenue generated with $16,000,000 spent on booking artists\n",
    "# -581% return on Investment"
   ]
  },
  {
   "cell_type": "code",
   "execution_count": null,
   "id": "498a705c-ba21-424b-8c09-b40a1e04eda6",
   "metadata": {},
   "outputs": [],
   "source": []
  }
 ],
 "metadata": {
  "kernelspec": {
   "display_name": "Python 3 (ipykernel)",
   "language": "python",
   "name": "python3"
  },
  "language_info": {
   "codemirror_mode": {
    "name": "ipython",
    "version": 3
   },
   "file_extension": ".py",
   "mimetype": "text/x-python",
   "name": "python",
   "nbconvert_exporter": "python",
   "pygments_lexer": "ipython3",
   "version": "3.8.12"
  }
 },
 "nbformat": 4,
 "nbformat_minor": 5
}
